{
 "cells": [
  {
   "cell_type": "code",
   "execution_count": 21,
   "metadata": {},
   "outputs": [],
   "source": [
    "import pandas as pd\n",
    "import glob\n",
    "import itertools\n",
    "import tqdm\n",
    "from main import strip_cell_values"
   ]
  },
  {
   "cell_type": "code",
   "execution_count": 22,
   "metadata": {},
   "outputs": [],
   "source": [
    "xlsx_files = glob.glob('./entity_matching2/*.xlsx')"
   ]
  },
  {
   "cell_type": "code",
   "execution_count": 19,
   "metadata": {},
   "outputs": [],
   "source": [
    "rename_dict = {\n",
    "    '生卒年或个人活动日期': '生卒年或个人活动日期',\n",
    "    '生卒年（活动日期）': '生卒年或个人活动日期',\n",
    "    '生卒年': '生卒年或个人活动日期',\n",
    "    '生卒年/个人活动日期': '生卒年或个人活动日期',\n",
    "    '生卒年/活动日期': '生卒年或个人活动日期',\n",
    "    '发表的著作': '发表的著作实体',\n",
    "}\n"
   ]
  },
  {
   "cell_type": "code",
   "execution_count": 20,
   "metadata": {},
   "outputs": [],
   "source": [
    "header_df = pd.DataFrame(dict(itertools.product( \n",
    "    strip_cell_values(pd.read_excel(f)).rename(columns=rename_dict).columns,\n",
    "    [f.split('/')[-1].split('.')[0]]\n",
    ")) for f in xlsx_files)\n",
    "header_df.to_excel('header_df.xlsx', index=False)\n"
   ]
  },
  {
   "cell_type": "code",
   "execution_count": 24,
   "metadata": {},
   "outputs": [
    {
     "name": "stderr",
     "output_type": "stream",
     "text": [
      "100%|██████████| 149/149 [00:06<00:00, 23.38it/s]\n"
     ]
    }
   ],
   "source": [
    "input_dir = './entity_matching2'\n",
    "fname_list = glob.glob(f'{input_dir}/*.xlsx')\n",
    "\n",
    "# clean and process the data\n",
    "rec_df_all = pd.concat([\n",
    "    (strip_cell_values(pd.read_excel(fname))\n",
    "        .rename(columns=rename_dict)\n",
    "        .assign(文件名=fname.split('/')[-1].split('.')[0].strip()))\n",
    "    for fname in tqdm.tqdm(fname_list)\n",
    "], axis=0)\n"
   ]
  },
  {
   "cell_type": "code",
   "execution_count": 26,
   "metadata": {},
   "outputs": [
    {
     "data": {
      "text/plain": [
       "(149,)"
      ]
     },
     "execution_count": 26,
     "metadata": {},
     "output_type": "execute_result"
    }
   ],
   "source": [
    "rec_df_all['文件名'].unique().shape"
   ]
  },
  {
   "cell_type": "code",
   "execution_count": null,
   "metadata": {},
   "outputs": [],
   "source": []
  }
 ],
 "metadata": {
  "kernelspec": {
   "display_name": "qf",
   "language": "python",
   "name": "python3"
  },
  "language_info": {
   "codemirror_mode": {
    "name": "ipython",
    "version": 3
   },
   "file_extension": ".py",
   "mimetype": "text/x-python",
   "name": "python",
   "nbconvert_exporter": "python",
   "pygments_lexer": "ipython3",
   "version": "3.11.9"
  }
 },
 "nbformat": 4,
 "nbformat_minor": 2
}
